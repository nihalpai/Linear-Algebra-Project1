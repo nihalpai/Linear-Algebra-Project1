{
 "cells": [
  {
   "cell_type": "markdown",
   "metadata": {},
   "source": [
    "# Introduction to Python for ESE 2180\n",
    "\n",
    "Dear All, \n",
    "\n",
    "Welcome to ESE2180. This is a brief introduction on how to use Python to finish your assignments and projects. To get started, you need to install Python and Jupyter Notebook on your computer or use Google Colab online. \n",
    "\n",
    "- Visit [Python](https://www.python.org/downloads/) to install Python.\n",
    "- Visit [Jupyter Notebook](https://jupyter.org/install) to install or use Jupyter Notebook in your browser.\n",
    "- Visit [Google Colab](https://colab.research.google.com/) to use Google Colab online.\n",
    "\n",
    "Once you have installed Python and Jupyter Notebook, you can start to write your Python code in Jupyter Notebook. \n",
    "\n",
    "Don't panic. Let's sit back and relax. We will guide you through the process.\n",
    "\n",
    "Let's first check if your python is installed correctly. \n",
    "In your terminal or command prompt, type the following command: \n",
    "```bash \n",
    "python --version\n",
    "```\n",
    "If your terminal returns `command not found: python`, you may want to try `python3 --version`. Jupyter or Google Colab users can see the next cell to check if Python is installed correctly."
   ]
  },
  {
   "cell_type": "code",
   "execution_count": null,
   "metadata": {},
   "outputs": [],
   "source": [
    "!python --version"
   ]
  },
  {
   "cell_type": "markdown",
   "metadata": {},
   "source": [
    "Let's start with some basic Python syntax, including variables, loops, and functions. \n",
    "\n",
    "## Example 1: Find your lucky number 7\n",
    "In this case, we want to identify your lucky number 7 inside a given list. In this function, we define a function `find_lucky_number` that takes a list of numbers as input. We then iterate through the list and check if the number is 7. If it is, we print it out and return its index. \n"
   ]
  },
  {
   "cell_type": "code",
   "execution_count": null,
   "metadata": {},
   "outputs": [],
   "source": [
    "def find_lucky_number(nums, target=7):\n",
    "    for i in range(len(nums)):\n",
    "        if nums[i] == target:\n",
    "            print(f\"Found lucky number {target} at index {i+1}\")\n",
    "            return i+1\n",
    "    return -1"
   ]
  },
  {
   "cell_type": "markdown",
   "metadata": {},
   "source": [
    "Let's test it out. "
   ]
  },
  {
   "cell_type": "code",
   "execution_count": null,
   "metadata": {},
   "outputs": [],
   "source": [
    "nums = [2,7,11,15]\n",
    "find_lucky_number(nums, target=7)"
   ]
  },
  {
   "cell_type": "markdown",
   "metadata": {},
   "source": [
    "Great! You have successfully run your first Python code.\n",
    "\n",
    "Here are some additional resources for you to learn Python: \n",
    "- [Python Tutorial](https://www.w3schools.com/python/)\n",
    "- [30-Days Of Python](https://github.com/Asabeneh/30-Days-Of-Python.git)\n",
    "- [Learn Python](https://github.com/trekhleb/learn-python.git)"
   ]
  },
  {
   "cell_type": "markdown",
   "metadata": {},
   "source": [
    "\n",
    "## Problem 1: Two-sum problem\n",
    "\n",
    "Given an array of integers nums and an integer target, return indices of the two numbers such that they add up to target.\n",
    "You may assume that each input would have exactly one solution, and you may not use the same element twice.\n",
    "You can return the answer in any order."
   ]
  },
  {
   "cell_type": "code",
   "execution_count": null,
   "metadata": {},
   "outputs": [],
   "source": [
    "def twoSum(nums: list[int], target: int) -> list[int]:\n",
    "    # implement your code here\n",
    "    return"
   ]
  },
  {
   "cell_type": "markdown",
   "metadata": {},
   "source": [
    "Let's test it out. \n",
    "- Input: nums = [2,7,11,15], target = 9\n",
    "- Output: [0,1]\n",
    "Because nums[0] + nums[1] == 9, we return [0, 1]."
   ]
  },
  {
   "cell_type": "code",
   "execution_count": null,
   "metadata": {},
   "outputs": [],
   "source": [
    "nums = [2,7,11,15]\n",
    "target = 9\n",
    "print('The two numbers that add up to the target are:', twoSum(nums, target))"
   ]
  },
  {
   "cell_type": "markdown",
   "metadata": {},
   "source": [
    "## Problem 2: Dot product of two vectors\n",
    "\n",
    "Given two vectors, find the dot product of the two vectors."
   ]
  },
  {
   "cell_type": "code",
   "execution_count": null,
   "metadata": {},
   "outputs": [],
   "source": [
    "def dot_product(v1, v2):\n",
    "    # Ensure both vectors are the same length\n",
    "    if len(v1) != len(v2):\n",
    "        raise ValueError(\"Vectors must be of the same length\")\n",
    "    \n",
    "    # implement your code here\n",
    "    return\n"
   ]
  },
  {
   "cell_type": "markdown",
   "metadata": {},
   "source": [
    "Let's test it out. If the code runs correctly, you will see the output is 32."
   ]
  },
  {
   "cell_type": "code",
   "execution_count": null,
   "metadata": {},
   "outputs": [],
   "source": [
    "\n",
    "# Example vectors\n",
    "v1 = [1, 2, 3]\n",
    "v2 = [4, 5, 6]\n",
    "\n",
    "# Output the result\n",
    "print(\"Dot Product:\", dot_product(v1, v2))"
   ]
  },
  {
   "cell_type": "markdown",
   "metadata": {},
   "source": [
    "## Problem 3: Matrix multiplication\n",
    "\n",
    "Consider the case where we have two matrix A and B. We want to multiply them together.\n",
    "\n",
    "Consider two matrices:\n",
    "  $$\n",
    "  A = \\begin{pmatrix}\n",
    "  1 & 2 & 3 \\\\\n",
    "  4 & 5 & 6\n",
    "  \\end{pmatrix}, \n",
    "  \\quad\n",
    "  B = \\begin{pmatrix}\n",
    "  7 & 8 \\\\\n",
    "  9 & 10 \\\\\n",
    "  11 & 12\n",
    "  \\end{pmatrix}\n",
    "  $$\n",
    "  The product \\( C = AB \\) is:\n",
    "  $$\n",
    "  C = \\begin{pmatrix}\n",
    "  (1 \\times 7 + 2 \\times 9 + 3 \\times 11) & (1 \\times 8 + 2 \\times 10 + 3 \\times 12) \\\\\n",
    "  (4 \\times 7 + 5 \\times 9 + 6 \\times 11) & (4 \\times 8 + 5 \\times 10 + 6 \\times 12)\n",
    "  \\end{pmatrix}\n",
    "  $$\n",
    "  Simplified, this gives:\n",
    "  $$\n",
    "  C = \\begin{pmatrix}\n",
    "  58 & 64 \\\\\n",
    "  139 & 154\n",
    "  \\end{pmatrix}\n",
    "  $$"
   ]
  },
  {
   "cell_type": "code",
   "execution_count": null,
   "metadata": {},
   "outputs": [],
   "source": [
    "def matrix_product(A, B):\n",
    "    # Get dimensions of matrices\n",
    "    m, n = len(A), len(A[0])\n",
    "    n_b, p = len(B), len(B[0])\n",
    "    \n",
    "    # Check if the matrices can be multiplied\n",
    "    if n != n_b:\n",
    "        raise ValueError(\"Number of columns in A must equal number of rows in B\")\n",
    "    \n",
    "    # Initialize the resulting matrix with zeros\n",
    "    C = [[0] * p for _ in range(m)]\n",
    "    \n",
    "    # implement your code here\n",
    "    return\n"
   ]
  },
  {
   "cell_type": "markdown",
   "metadata": {},
   "source": [
    "Let's test it out. If the code runs correctly, you will see the output is \n",
    "$$\n",
    "C = \\begin{pmatrix}\n",
    "58 & 64 \\\\\n",
    "139 & 154\n",
    "\\end{pmatrix}\n",
    "$$"
   ]
  },
  {
   "cell_type": "code",
   "execution_count": null,
   "metadata": {},
   "outputs": [],
   "source": [
    "\n",
    "# Example matrices\n",
    "A = [[1, 2, 3],\n",
    "    [4, 5, 6]]\n",
    "\n",
    "B = [[7, 8],\n",
    "    [9, 10],\n",
    "    [11, 12]]\n",
    "\n",
    "# Output the result\n",
    "print(\"Matrix Product:\", matrix_product(A, B))\n"
   ]
  },
  {
   "cell_type": "markdown",
   "metadata": {},
   "source": [
    "We next look at one of the most useful libraries in Python, Numpy. \n",
    "If your environment does not contain the necessary packages, you can install them by running the following commands in the terminal or in the notebook. \n",
    "```bash\n",
    "pip install numpy\n",
    "```\n",
    "If you are using Jupyter Notebook or Google Colab, you can install the packages by running `!pip install` in a cell. Once you have installed the package, you can import it into your code and use it. Now Let's try to solve the problem with NumPy. "
   ]
  },
  {
   "cell_type": "code",
   "execution_count": null,
   "metadata": {},
   "outputs": [],
   "source": [
    "import numpy as np\n",
    "\n",
    "# Example matrices\n",
    "A = np.array([[1, 2, 3], [4, 5, 6]])\n",
    "B = np.array([[7, 8], [9, 10], [11, 12]])\n",
    "\n",
    "# Matrix Product using NumPy\n",
    "C = np.dot(A, B)\n",
    "\n",
    "print(\"Matrix Product with NumPy:\\n\", C)\n"
   ]
  },
  {
   "cell_type": "markdown",
   "metadata": {},
   "source": [
    "Next, let's try to wrap it up with some visualization library `matplotlib`. Here is an example. You can run the code and twist it to see the difference. "
   ]
  },
  {
   "cell_type": "code",
   "execution_count": null,
   "metadata": {},
   "outputs": [],
   "source": [
    "import matplotlib.pyplot as plt\n",
    "\n",
    "x = np.linspace(-5, 5, 100)\n",
    "y1 = -x + 6\n",
    "y2 = x + 4\n",
    "\n",
    "fig, ax = plt.subplots(figsize = (12, 7))\n",
    "ax.scatter(1, 5, s = 200, zorder=5, color = 'r', alpha = .8) \n",
    "\n",
    "ax.plot(x, y1, lw =3, label = '$x+y=6$')\n",
    "ax.plot(x, y2, lw =3, label = '$x-y=-4$')\n",
    "ax.plot([1, 1], [0, 5], ls = '--', color = 'b', alpha = .5)\n",
    "ax.plot([-5, 1], [5, 5], ls = '--', color = 'b', alpha = .5)\n",
    "ax.set_xlim([-5, 5])\n",
    "ax.set_ylim([0, 12])\n",
    "\n",
    "ax.legend()\n",
    "s = '$(1,5)$'\n",
    "ax.text(1, 5.5, s, fontsize = 20)\n",
    "ax.set_title('Solution of $x+y=6$, $x-y=-4$', size = 22)\n",
    "ax.grid()"
   ]
  }
 ],
 "metadata": {
  "kernelspec": {
   "display_name": "Python 3",
   "language": "python",
   "name": "python3"
  },
  "language_info": {
   "codemirror_mode": {
    "name": "ipython",
    "version": 3
   },
   "file_extension": ".py",
   "mimetype": "text/x-python",
   "name": "python",
   "nbconvert_exporter": "python",
   "pygments_lexer": "ipython3",
   "version": "3.10.8"
  }
 },
 "nbformat": 4,
 "nbformat_minor": 2
}
