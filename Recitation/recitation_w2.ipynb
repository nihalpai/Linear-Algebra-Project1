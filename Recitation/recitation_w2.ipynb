{
 "cells": [
  {
   "cell_type": "markdown",
   "metadata": {},
   "source": [
    "## Problem 3\n",
    "\n",
    "Consider the case where we have two matrix A and B. We want to multiply them together.\n",
    "\n",
    "Consider two matrices:\n",
    "  $$\n",
    "  A = \\begin{pmatrix}\n",
    "  1 & 2 & 3 \\\\\n",
    "  4 & 5 & 6\n",
    "  \\end{pmatrix}, \n",
    "  \\quad\n",
    "  B = \\begin{pmatrix}\n",
    "  7 & 8 \\\\\n",
    "  9 & 10 \\\\\n",
    "  11 & 12\n",
    "  \\end{pmatrix}\n",
    "  $$\n",
    "  The product \\( C = AB \\) is:\n",
    "  $$\n",
    "  C = \\begin{pmatrix}\n",
    "  (1 \\times 7 + 2 \\times 9 + 3 \\times 11) & (1 \\times 8 + 2 \\times 10 + 3 \\times 12) \\\\\n",
    "  (4 \\times 7 + 5 \\times 9 + 6 \\times 11) & (4 \\times 8 + 5 \\times 10 + 6 \\times 12)\n",
    "  \\end{pmatrix}\n",
    "  $$\n",
    "  Simplified, this gives:\n",
    "  $$\n",
    "  C = \\begin{pmatrix}\n",
    "  58 & 64 \\\\\n",
    "  139 & 154\n",
    "  \\end{pmatrix}\n",
    "  $$\n",
    "  "
   ]
  },
  {
   "cell_type": "code",
   "execution_count": 1,
   "metadata": {},
   "outputs": [],
   "source": [
    "def matrix_product(A, B):\n",
    "    # Get dimensions of matrices\n",
    "    m, n = len(A), len(A[0])\n",
    "    n_b, p = len(B), len(B[0])\n",
    "    \n",
    "    # Check if the matrices can be multiplied\n",
    "    if n != n_b:\n",
    "        raise ValueError(\"Number of columns in A must equal number of rows in B\")\n",
    "    \n",
    "    # Initialize the resulting matrix with zeros\n",
    "    C = [[0] * p for _ in range(m)]\n",
    "    \n",
    "    # Perform matrix multiplication\n",
    "    for i in range(m):\n",
    "        for j in range(p):\n",
    "            for k in range(n):\n",
    "                C[i][j] += A[i][k] * B[k][j]\n",
    "    \n",
    "    return C\n"
   ]
  },
  {
   "cell_type": "code",
   "execution_count": 2,
   "metadata": {},
   "outputs": [
    {
     "name": "stdout",
     "output_type": "stream",
     "text": [
      "Matrix Product: [[58, 64], [139, 154]]\n",
      "Matrix Product: [[ 58  64]\n",
      " [139 154]]\n"
     ]
    }
   ],
   "source": [
    "import numpy as np\n",
    "# Example matrices\n",
    "A = [[1, 2, 3],\n",
    "    [4, 5, 6]]\n",
    "\n",
    "B = [[7, 8],\n",
    "    [9, 10],\n",
    "    [11, 12]]\n",
    "\n",
    "print(\"Matrix Product:\", matrix_product(A, B))\n",
    "\n",
    "A = np.array(A)\n",
    "B = np.array(B)\n",
    "\n",
    "# Output the result\n",
    "print(\"Matrix Product:\", A @ B)"
   ]
  },
  {
   "cell_type": "markdown",
   "metadata": {},
   "source": [
    "Which one is better?\n",
    "Let's see how much time does it takes. "
   ]
  },
  {
   "cell_type": "code",
   "execution_count": 3,
   "metadata": {},
   "outputs": [
    {
     "name": "stdout",
     "output_type": "stream",
     "text": [
      "Numpy Execution Time: 0.002417111396789551\n",
      "Matrix Product Execution Time: 0.05779907703399658\n"
     ]
    }
   ],
   "source": [
    "import time\n",
    "\n",
    "TimesN = 10\n",
    "size = 128\n",
    "\n",
    "np_execution_time = 0\n",
    "mp_execution_time = 0\n",
    "for _ in range(TimesN):\n",
    "    A = np.random.rand(size, size)\n",
    "    B = np.random.rand(size, size)\n",
    "    \n",
    "    # Measure the execution time of numpy matrix product\n",
    "    np_start_time = time.time()\n",
    "    result_np = A @ B\n",
    "    np_end_time = time.time()\n",
    "    np_execution_time += np_end_time - np_start_time\n",
    "\n",
    "    # Measure the execution time of matrix product function\n",
    "    mp_start_time = time.time()\n",
    "    result_mp = matrix_product(A, B)\n",
    "    mp_end_time = time.time()\n",
    "    mp_execution_time = mp_end_time - mp_start_time\n",
    "\n",
    "# Print the execution times\n",
    "print(\"Numpy Execution Time:\", np_execution_time/TimesN)\n",
    "print(\"Matrix Product Execution Time:\", mp_execution_time/TimesN)"
   ]
  },
  {
   "cell_type": "markdown",
   "metadata": {},
   "source": [
    "## Problem 4\n",
    "\n",
    "It seems like our method still have space to improve. How?"
   ]
  },
  {
   "cell_type": "markdown",
   "metadata": {},
   "source": [
    "Consider this case\n",
    "\n",
    "$A=\\left[\\begin{array}{ll}a & b \\\\ c & d\\end{array}\\right], B=\\left[\\begin{array}{ll}e & f \\\\ g & h\\end{array}\\right], C=A B=\\left[\\begin{array}{ll}C_{11} & C_{12} \\\\ C_{21} & C_{22}\\end{array}\\right]$\n",
    "\n",
    "We have $C_{11}=a e+b g, C_{12}=a f+b h, C_{21}=c e+d g, C_{22}=c f+d h$\n"
   ]
  },
  {
   "cell_type": "code",
   "execution_count": 4,
   "metadata": {},
   "outputs": [],
   "source": [
    "def split(M):\n",
    "    # Get the number of rows and columns\n",
    "    n = len(M)\n",
    "    return M[:n//2, :n//2], M[:n//2, n//2:], M[n//2:, :n//2], M[n//2:, n//2:]"
   ]
  },
  {
   "cell_type": "code",
   "execution_count": 5,
   "metadata": {},
   "outputs": [
    {
     "name": "stdout",
     "output_type": "stream",
     "text": [
      "a: [[1 2]\n",
      " [5 6]]\n",
      "b: [[3 4]\n",
      " [7 8]]\n",
      "c: [[ 9 10]\n",
      " [13 14]]\n",
      "d: [[11 12]\n",
      " [15 16]]\n"
     ]
    }
   ],
   "source": [
    "A = np.array([[1, 2, 3, 4], [5, 6, 7, 8], [9, 10, 11, 12], [13, 14, 15, 16]])\n",
    "a, b, c, d = split(A)\n",
    "print(\"a:\", a)\n",
    "print(\"b:\", b)\n",
    "print(\"c:\", c)\n",
    "print(\"d:\", d)"
   ]
  },
  {
   "cell_type": "markdown",
   "metadata": {},
   "source": [
    "\n",
    "$a e+b g=(a+d)(e+h)+d(g-e)-(a+b) h+(b-d)(g+h) $\n",
    "\n",
    "$a f+b h=a(f-h)+(a+b) h $\n",
    "\n",
    "$c e+d g=(c+d) e+d(g-e) $\n",
    "\n",
    "$c f+d h=a(f-h)+(a+d)(e+h)-(c+d) e-(a-c)(e+f)$\n",
    "\n",
    "Can we find any pattern here?"
   ]
  },
  {
   "cell_type": "code",
   "execution_count": 25,
   "metadata": {},
   "outputs": [],
   "source": [
    "# Strassen algorithm\n",
    "def strassen(A, B):\n",
    "    n = len(A)\n",
    "    if n <= 2:  # Base case\n",
    "        return np.dot(A, B)\n",
    "    \n",
    "    a,b,c,d = split(A)\n",
    "    e,f,g,h = split(B)\n",
    "    \n",
    "    p1 = strassen(a+d, e+h)\n",
    "    p2 = strassen(d, g-e)\n",
    "    p3 = strassen(a+b, h)\n",
    "    p4 = strassen(b-d, g+h)\n",
    "    p5 = strassen(a, f-h)\n",
    "    p6 = strassen(c+d, e)\n",
    "    p7 = strassen(a-c, e+f)\n",
    "    \n",
    "    c11 = p1 + p2 - p3 + p4\n",
    "    c12 = p5 + p3\n",
    "    c21 = p6 + p2\n",
    "    c22 = p5 + p1 - p6 - p7\n",
    "    \n",
    "    C = np.vstack((np.hstack((c11, c12)), np.hstack((c21, c22))))\n",
    "    return C"
   ]
  },
  {
   "cell_type": "code",
   "execution_count": 26,
   "metadata": {},
   "outputs": [
    {
     "name": "stdout",
     "output_type": "stream",
     "text": [
      "Strassen: [[0.4259333  0.3205607 ]\n",
      " [0.44354849 0.33260736]]\n",
      "Numpy: [[0.4259333  0.3205607 ]\n",
      " [0.44354849 0.33260736]]\n"
     ]
    }
   ],
   "source": [
    "A = np.random.rand(2, 2)\n",
    "B = np.random.rand(2, 2)\n",
    "\n",
    "C_s = strassen(A, B)\n",
    "C_np = A @ B\n",
    "print(\"Strassen:\", C_s)\n",
    "print(\"Numpy:\", C_np)"
   ]
  },
  {
   "cell_type": "markdown",
   "metadata": {},
   "source": [
    "Did we really improve the performance?"
   ]
  },
  {
   "cell_type": "code",
   "execution_count": 28,
   "metadata": {},
   "outputs": [
    {
     "name": "stdout",
     "output_type": "stream",
     "text": [
      "Strassen Execution Time: 0.3918471336364746\n",
      "Matrix Product Execution Time: 0.5195739269256592\n"
     ]
    }
   ],
   "source": [
    "TimesN = 1\n",
    "size = 128\n",
    "\n",
    "strassen_execution_time = 0\n",
    "\n",
    "for _ in range(TimesN):\n",
    "    A = np.random.rand(size, size)\n",
    "    B = np.random.rand(size, size)\n",
    "    \n",
    "    # Measure the execution time of strassen matrix product\n",
    "    strassen_start_time = time.time()\n",
    "    result_strassen = strassen(A, B)\n",
    "    strassen_end_time = time.time()\n",
    "    strassen_execution_time += strassen_end_time - strassen_start_time\n",
    "\n",
    "    # Measure the execution time of matrix product function\n",
    "    mp_start_time = time.time()\n",
    "    result_mp = matrix_product(A, B)\n",
    "    mp_end_time = time.time()\n",
    "    mp_execution_time = mp_end_time - mp_start_time\n",
    "\n",
    "# Print the execution times\n",
    "print(\"Strassen Execution Time:\", strassen_execution_time/TimesN)\n",
    "print(\"Matrix Product Execution Time:\", mp_execution_time/TimesN)"
   ]
  },
  {
   "cell_type": "markdown",
   "metadata": {},
   "source": [
    "We do make some difference here. What is its complexity?"
   ]
  }
 ],
 "metadata": {
  "kernelspec": {
   "display_name": "base",
   "language": "python",
   "name": "python3"
  },
  "language_info": {
   "codemirror_mode": {
    "name": "ipython",
    "version": 3
   },
   "file_extension": ".py",
   "mimetype": "text/x-python",
   "name": "python",
   "nbconvert_exporter": "python",
   "pygments_lexer": "ipython3",
   "version": "3.10.8"
  }
 },
 "nbformat": 4,
 "nbformat_minor": 2
}
